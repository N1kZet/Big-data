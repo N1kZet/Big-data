{
  "cells": [
    {
      "cell_type": "markdown",
      "metadata": {
        "id": "vhiqLDHoCGiz"
      },
      "source": [
        "15.Выполните задание на основе набора данных football.csv:\n",
        "Определите разницу  между средним возрастом (Age)   игроков, обладающих\n",
        "реакцией (Reactions) выше средней и забивших максимальное число пенальти\n",
        "(Penalties), и  средним возрастом игроков с уровнем агрессии (Aggression) выше\n",
        "среднего и максимальной скоростью (SprintSpeed))"
      ]
    },
    {
      "cell_type": "code",
      "execution_count": 1,
      "metadata": {
        "colab": {
          "base_uri": "https://localhost:8080/"
        },
        "id": "-d4pkFxVYTTI",
        "outputId": "781dce16-9d41-49bb-c74a-c32b5ed9393a"
      },
      "outputs": [
        {
          "name": "stdout",
          "output_type": "stream",
          "text": [
            "3.5\n"
          ]
        }
      ],
      "source": [
        "import pandas as pd\n",
        "\n",
        "df = pd.read_csv(\"/home/football.csv\")\n",
        "\n",
        "mean_reactions = df['Reactions'].mean()\n",
        "mean_aggression = df['Aggression'].mean()\n",
        "\n",
        "players_reactions = df[df['Reactions'] > mean_reactions]\n",
        "players_aggression = df[df['Aggression'] > mean_aggression]\n",
        "\n",
        "max_penalties = players_reactions['Penalties'].max()\n",
        "average_age_reactions = players_reactions[players_reactions['Penalties'] == max_penalties]['Age'].mean()\n",
        "\n",
        "max_sprint_speed = players_aggression['SprintSpeed'].max()\n",
        "\n",
        "average_age_aggression = players_aggression[players_aggression['SprintSpeed'] == max_sprint_speed]['Age'].mean()\n",
        "\n",
        "age_difference = average_age_reactions - average_age_aggression\n",
        "print(age_difference)\n"
      ]
    },
    {
      "cell_type": "markdown",
      "metadata": {
        "id": "S7br_FfSC-VL"
      },
      "source": [
        "5.Выполните задание на основе набора данных football.csv:  \n",
        "Какова средняя скорость (SprintSpeed) футболистов, зарплата (Wage) которых\n",
        "выше среднего? Ответ округлите до сотых."
      ]
    },
    {
      "cell_type": "code",
      "execution_count": 4,
      "metadata": {
        "colab": {
          "base_uri": "https://localhost:8080/"
        },
        "id": "t-lydiUgDB9b",
        "outputId": "6a15adee-03cf-4efe-86f6-39fe6f3d5b0f"
      },
      "outputs": [
        {
          "name": "stdout",
          "output_type": "stream",
          "text": [
            "67.57\n"
          ]
        }
      ],
      "source": [
        "import pandas as pd\n",
        "\n",
        "df = pd.read_csv(\"/home/football.csv\")\n",
        "\n",
        "mean_wage = df[\"Wage\"].mean()\n",
        "\n",
        "players_wage = df[df['Wage'] > mean_wage]\n",
        "players_sprint = players_wage['SprintSpeed'].mean()\n",
        "\n",
        "print(round(players_sprint,2))"
      ]
    }
  ],
  "metadata": {
    "colab": {
      "provenance": []
    },
    "kernelspec": {
      "display_name": "Python 3",
      "name": "python3"
    },
    "language_info": {
      "name": "python"
    }
  },
  "nbformat": 4,
  "nbformat_minor": 0
}

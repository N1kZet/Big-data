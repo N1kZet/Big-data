{
 "cells": [
  {
   "cell_type": "code",
   "execution_count": 6,
   "metadata": {},
   "outputs": [
    {
     "ename": "ModuleNotFoundError",
     "evalue": "No module named 'pandas'",
     "output_type": "error",
     "traceback": [
      "\u001b[0;31m---------------------------------------------------------------------------\u001b[0m",
      "\u001b[0;31mModuleNotFoundError\u001b[0m                       Traceback (most recent call last)",
      "Cell \u001b[0;32mIn[6], line 1\u001b[0m\n\u001b[0;32m----> 1\u001b[0m \u001b[38;5;28;01mimport\u001b[39;00m\u001b[38;5;250m \u001b[39m\u001b[38;5;21;01mpandas\u001b[39;00m\u001b[38;5;250m \u001b[39m\u001b[38;5;28;01mas\u001b[39;00m\u001b[38;5;250m \u001b[39m\u001b[38;5;21;01mpd\u001b[39;00m\n\u001b[1;32m      3\u001b[0m df \u001b[38;5;241m=\u001b[39m pd\u001b[38;5;241m.\u001b[39mread_csv(\u001b[38;5;124m\"\u001b[39m\u001b[38;5;124mfootball.csv\u001b[39m\u001b[38;5;124m\"\u001b[39m)\n\u001b[1;32m      5\u001b[0m mean_reactions \u001b[38;5;241m=\u001b[39m df[\u001b[38;5;124m'\u001b[39m\u001b[38;5;124mReactions\u001b[39m\u001b[38;5;124m'\u001b[39m]\u001b[38;5;241m.\u001b[39mmean()\n",
      "\u001b[0;31mModuleNotFoundError\u001b[0m: No module named 'pandas'"
     ]
    }
   ],
   "source": [
    "import pandas as pd\n",
    "\n",
    "df = pd.read_csv(\"football.csv\")\n",
    "\n",
    "mean_reactions = df['Reactions'].mean()\n",
    "mean_aggression = df['Aggression'].mean()\n",
    "\n",
    "players_reactions = df[df['Reactions'] > mean_reactions]\n",
    "players_aggression = df[df['Aggression'] > mean_aggression]\n",
    "\n",
    "max_penalties = players_reactions['Penalties'].max()\n",
    "average_age_reactions = players_reactions[players_reactions['Penalties'] == max_penalties]['Age'].mean()\n",
    "\n",
    "max_sprint_speed = players_aggression['SprintSpeed'].max()\n",
    "\n",
    "average_age_aggression = players_aggression[players_aggression['SprintSpeed'] == max_sprint_speed]['Age'].mean()\n",
    "\n",
    "age_difference = average_age_reactions - average_age_aggression\n",
    "print(age_difference)\n",
    "\n",
    "# Выполните задание на основе набора данных football.csv:   \n",
    "# Определите разницу  между средним возрастом (Age)   игроков, обладающих \n",
    "# реакцией (Reactions) выше средней и забивших максимальное число пенальти \n",
    "# (Penalties), и  средним возрастом игроков с уровнем агрессии (Aggression) выше \n",
    "# среднего и максимальной скоростью (SprintSpeed))  "
   ]
  },
  {
   "cell_type": "code",
   "execution_count": null,
   "metadata": {},
   "outputs": [],
   "source": [
    "import pandas as pd\n",
    "\n",
    "df = pd.read_csv('football.csv')\n",
    "\n",
    "max_age = df['Age'].max()\n",
    "min_age = df['Age'].min()\n",
    "\n",
    "oldest_players = df[df['Age'] == max_age]\n",
    "youngest_players = df[df['Age'] == min_age]\n",
    "\n",
    "avg_reaction_oldest = oldest_players['Reactions'].mean()\n",
    "avg_reaction_youngest = youngest_players['Reactions'].mean()\n",
    "\n",
    "difference = round(avg_reaction_oldest - avg_reaction_youngest, 2)\n",
    "\n",
    "print(f\"Средняя реакция самых взрослых игроков: {avg_reaction_oldest}\")\n",
    "print(f\"Средняя реакция самых молодых игроков: {avg_reaction_youngest}\")\n",
    "print(f\"Разница: {difference}\")\n",
    "\n",
    "# Выполните задание на основе набора данных football.csv:  \n",
    "# Определите, на сколько средняя реакция (Reactions) самых взрослых игроков \n",
    "# (т.е. игроков, чей возраст (Age) равен максимальному) больше средней реакции \n",
    "# самых молодых игроков. Ответ округлите до сотых. "
   ]
  },
  {
   "cell_type": "code",
   "execution_count": 4,
   "metadata": {},
   "outputs": [
    {
     "ename": "ModuleNotFoundError",
     "evalue": "No module named 'pandas'",
     "output_type": "error",
     "traceback": [
      "\u001b[0;31m---------------------------------------------------------------------------\u001b[0m",
      "\u001b[0;31mModuleNotFoundError\u001b[0m                       Traceback (most recent call last)",
      "Cell \u001b[0;32mIn[4], line 1\u001b[0m\n\u001b[0;32m----> 1\u001b[0m \u001b[38;5;28;01mimport\u001b[39;00m\u001b[38;5;250m \u001b[39m\u001b[38;5;21;01mpandas\u001b[39;00m\u001b[38;5;250m \u001b[39m\u001b[38;5;28;01mas\u001b[39;00m\u001b[38;5;250m \u001b[39m\u001b[38;5;21;01mpd\u001b[39;00m\n\u001b[1;32m      3\u001b[0m df \u001b[38;5;241m=\u001b[39m pd\u001b[38;5;241m.\u001b[39mread_csv(\u001b[38;5;124m'\u001b[39m\u001b[38;5;124mfootball.csv\u001b[39m\u001b[38;5;124m'\u001b[39m)\n\u001b[1;32m      4\u001b[0m data \u001b[38;5;241m=\u001b[39m pd\u001b[38;5;241m.\u001b[39mDataFrame(df)\n",
      "\u001b[0;31mModuleNotFoundError\u001b[0m: No module named 'pandas'"
     ]
    }
   ],
   "source": [
    "import pandas as pd\n",
    "\n",
    "df = pd.read_csv('football.csv')\n",
    "data = pd.DataFrame(df)"
   ]
  },
  {
   "cell_type": "code",
   "execution_count": null,
   "metadata": {},
   "outputs": [],
   "source": []
  }
 ],
 "metadata": {
  "kernelspec": {
   "display_name": "Python 3 (ipykernel)",
   "language": "python",
   "name": "python3"
  },
  "language_info": {
   "codemirror_mode": {
    "name": "ipython",
    "version": 3
   },
   "file_extension": ".py",
   "mimetype": "text/x-python",
   "name": "python",
   "nbconvert_exporter": "python",
   "pygments_lexer": "ipython3",
   "version": "3.12.3"
  }
 },
 "nbformat": 4,
 "nbformat_minor": 4
}

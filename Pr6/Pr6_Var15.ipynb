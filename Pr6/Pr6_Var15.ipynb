{
  "nbformat": 4,
  "nbformat_minor": 0,
  "metadata": {
    "colab": {
      "provenance": []
    },
    "kernelspec": {
      "name": "python3",
      "display_name": "Python 3"
    },
    "language_info": {
      "name": "python"
    }
  },
  "cells": [
    {
      "cell_type": "markdown",
      "source": [
        "15. Сформировать целочисленную матрицу А[n,n] с помощью генератора\n",
        "случайных чисел (random). Найти в каждой строке наибольший элемент и\n",
        "поменять его местами с элементом главной диагонали.\n",
        "Вычислить значение медианы для элементов главной диагонали\n",
        "преобразованной матрицы. Вычисление медианы выполнить двумя способами:\n",
        "через стандартную функцию и через программирование формулы."
      ],
      "metadata": {
        "id": "qqkMcOXGDCCi"
      }
    },
    {
      "cell_type": "code",
      "source": [
        "import numpy as np\n",
        "\n",
        "def calculate_median_formula(sorted_arr):\n",
        "    n = len(sorted_arr)\n",
        "    if n % 2 == 1:\n",
        "        return sorted_arr[n // 2]\n",
        "    else:\n",
        "        return (sorted_arr[n // 2 - 1] + sorted_arr[n // 2]) / 2\n",
        "\n",
        "n = int(input(\"Введите размер матрицы n: \"))\n",
        "\n",
        "A = np.random.randint(0, 100, size=(n, n))\n",
        "print(\"Исходная матрица:\")\n",
        "print(A);\n",
        "print(\"\\nГлавная диагональ:\",np.diag(A))\n",
        "\n",
        "for i in range(n):\n",
        "    max_in_row = np.argmax(A[i])\n",
        "    A[i, i], A[i, max_in_row] = A[i, max_in_row], A[i, i]\n",
        "\n",
        "print(\"\\nМатрица после замены:\")\n",
        "print(A)\n",
        "\n",
        "main_diagonal = np.diag(A)\n",
        "\n",
        "median_numpy = np.median(main_diagonal)\n",
        "\n",
        "# Вычисление медианы по формуле\n",
        "sorted_diag = np.sort(main_diagonal)\n",
        "# print(\"\\nОтсортированная диагональ: \", sorted_diag)\n",
        "median_formula = calculate_median_formula(sorted_diag)\n",
        "\n",
        "print(\"\\nГлавная диагональ после сортировки:\", main_diagonal)\n",
        "print(\"Медиана (numpy):\", median_numpy)\n",
        "print(\"Медиана (формула):\", median_formula)"
      ],
      "metadata": {
        "colab": {
          "base_uri": "https://localhost:8080/"
        },
        "id": "Khs7XutoDnVY",
        "outputId": "1a1d665e-c7ba-436c-985b-0a8b030dd423"
      },
      "execution_count": 18,
      "outputs": [
        {
          "output_type": "stream",
          "name": "stdout",
          "text": [
            "Введите размер матрицы n: 4\n",
            "Исходная матрица:\n",
            "[[29 84  7 25]\n",
            " [71 32 84 60]\n",
            " [16 25 46 75]\n",
            " [71 86 35  4]]\n",
            "\n",
            "Главная диагональ: [29 32 46  4]\n",
            "\n",
            "Матрица после замены:\n",
            "[[84 29  7 25]\n",
            " [71 84 32 60]\n",
            " [16 25 75 46]\n",
            " [71  4 35 86]]\n",
            "\n",
            "Главная диагональ после сортировки: [84 84 75 86]\n",
            "Медиана (numpy): 84.0\n",
            "Медиана (формула): 84.0\n"
          ]
        }
      ]
    },
    {
      "cell_type": "markdown",
      "source": [
        "5. Сформировать целочисленную матрицу А[n,m] с помощью генератора\n",
        "случайных чисел\n",
        "(random). Отсортировать по возрастанию элементы\n",
        "последней строки матрицы.\n",
        "Вычислить значение медианы этой строки матрицы. Вычисление\n",
        "медианы выполнить двумя способами: через стандартную функцию и через\n",
        "программирование формулы"
      ],
      "metadata": {
        "id": "5j-DD-rSLn4Z"
      }
    },
    {
      "cell_type": "code",
      "source": [
        "import numpy as np\n",
        "\n",
        "def calculate_median_formula(sorted_arr):\n",
        "    n = len(sorted_arr)\n",
        "    if n % 2 == 1:\n",
        "        return sorted_arr[n // 2]\n",
        "    else:\n",
        "        return (sorted_arr[n // 2 - 1] + sorted_arr[n // 2]) / 2\n",
        "\n",
        "n = int(input(\"Введите количество строк n: \"))\n",
        "m = int(input(\"Введите количество столбцов m: \"))\n",
        "\n",
        "A = np.random.randint(0, 100, size=(n, m))\n",
        "print(\"\\nИсходная матрица:\")\n",
        "print(A)\n",
        "\n",
        "last_row = A[-1].copy()\n",
        "A[-1] = np.sort(last_row)\n",
        "\n",
        "print(\"\\nМатрица после сортировки последней строки:\")\n",
        "print(A)\n",
        "\n",
        "median_numpy = np.median(A[-1])\n",
        "median_manual = calculate_median_formula(A[-1])\n",
        "\n",
        "print(\"\\nПоследняя строка после сортировки:\", A[-1])\n",
        "print(f\"Медиана (стандартная функция NumPy): {median_numpy}\")\n",
        "print(f\"Медиана (ручной расчёт по формуле): {median_manual}\")"
      ],
      "metadata": {
        "colab": {
          "base_uri": "https://localhost:8080/"
        },
        "id": "sdvxs_vxLuA7",
        "outputId": "bfb0c4cc-8dfb-4990-9f20-d8471fa7bd65"
      },
      "execution_count": 19,
      "outputs": [
        {
          "output_type": "stream",
          "name": "stdout",
          "text": [
            "Введите количество строк n: 6\n",
            "Введите количество столбцов m: 5\n",
            "\n",
            "Исходная матрица:\n",
            "[[69 80 24 65 99]\n",
            " [67 36 92 85 84]\n",
            " [91 21 40 84 38]\n",
            " [55 37  8 83 41]\n",
            " [32  9 55 20 70]\n",
            " [ 2 76 88 75 49]]\n",
            "\n",
            "Матрица после сортировки последней строки:\n",
            "[[69 80 24 65 99]\n",
            " [67 36 92 85 84]\n",
            " [91 21 40 84 38]\n",
            " [55 37  8 83 41]\n",
            " [32  9 55 20 70]\n",
            " [ 2 49 75 76 88]]\n",
            "\n",
            "Последняя строка после сортировки: [ 2 49 75 76 88]\n",
            "Медиана (стандартная функция NumPy): 75.0\n",
            "Медиана (ручной расчёт по формуле): 75\n"
          ]
        }
      ]
    }
  ]
}
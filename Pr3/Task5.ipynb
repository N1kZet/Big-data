{
 "cells": [
  {
   "cell_type": "code",
   "execution_count": 1,
   "id": "704a4851-6aa1-482c-be2a-abb88c2d06b7",
   "metadata": {},
   "outputs": [
    {
     "name": "stdout",
     "output_type": "stream",
     "text": [
      "Количество клиентов, которые не совершали действий с категориями 'datepicker' и 'table': 47\n"
     ]
    }
   ],
   "source": [
    "import json\n",
    "\n",
    "with open('data.json', 'r') as file:\n",
    "    data = json.load(file)\n",
    "\n",
    "events = data['events_data']\n",
    "\n",
    "# Список клиентов, которые совершили действия с категориями 'datepicker' или 'table'\n",
    "clients_with_actions = set()\n",
    "\n",
    "for event in events:\n",
    "    if event['category'] in ['datepicker', 'table']:\n",
    "        clients_with_actions.add(event['client_id'])\n",
    "\n",
    "all_clients = set(event['client_id'] for event in events)\n",
    "\n",
    "clients_without_actions = all_clients - clients_with_actions\n",
    "\n",
    "print(f\"Количество клиентов, которые не совершали действий с категориями 'datepicker' и 'table': {len(clients_without_actions)}\")\n"
   ]
  },
  {
   "cell_type": "code",
   "execution_count": null,
   "id": "6368282a-a47c-4680-9acd-a1fd963a1781",
   "metadata": {},
   "outputs": [],
   "source": [
    "Выполните  на  основе  набора  данных data.json задание:  \n",
    "Выполните на основе набора данных  data.json задание:Сколько клиентов не \n",
    "совершали действий с категориями (category) = datepicker и table?"
   ]
  },
  {
   "cell_type": "code",
   "execution_count": null,
   "id": "c0cb0c93-cd08-44ca-8704-7bffb482d94f",
   "metadata": {},
   "outputs": [],
   "source": []
  }
 ],
 "metadata": {
  "kernelspec": {
   "display_name": "Python 3 (ipykernel)",
   "language": "python",
   "name": "python3"
  },
  "language_info": {
   "codemirror_mode": {
    "name": "ipython",
    "version": 3
   },
   "file_extension": ".py",
   "mimetype": "text/x-python",
   "name": "python",
   "nbconvert_exporter": "python",
   "pygments_lexer": "ipython3",
   "version": "3.12.3"
  }
 },
 "nbformat": 4,
 "nbformat_minor": 5
}

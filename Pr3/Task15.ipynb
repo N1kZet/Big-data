{
 "cells": [
  {
   "cell_type": "code",
   "execution_count": 1,
   "id": "1c29ffee-ad8c-42ee-9c8d-0d5c29314f5f",
   "metadata": {},
   "outputs": [
    {
     "name": "stdout",
     "output_type": "stream",
     "text": [
      "Минимальный идентификатор клиента, который совершил действие с категорией 'report': 58113\n"
     ]
    }
   ],
   "source": [
    "import json\n",
    "\n",
    "with open('data.json', 'r') as file:\n",
    "    data = json.load(file)\n",
    "\n",
    "events = data['events_data']\n",
    "\n",
    "#Фильтруем события по категории 'report' и извлекаем минимальный client_id\n",
    "report_events = [event for event in events if event['category'] == 'report']\n",
    "client_ids = [event['client_id'] for event in report_events]\n",
    "\n",
    "min_client_id = min(client_ids) if client_ids else None\n",
    "\n",
    "print(f\"Минимальный идентификатор клиента, который совершил действие с категорией 'report': {min_client_id}\")\n"
   ]
  },
  {
   "cell_type": "code",
   "execution_count": null,
   "id": "c689d58d-1d80-4fe2-8900-3b326e1b0d4e",
   "metadata": {},
   "outputs": [],
   "source": [
    "Выполните на основе набора данных data.json задание:\n",
    "Напишите  идентификатор  клиента (минимальное  значение  идентификатора), который совершил действия с категорией (category) = report"
   ]
  }
 ],
 "metadata": {
  "kernelspec": {
   "display_name": "Python 3 (ipykernel)",
   "language": "python",
   "name": "python3"
  },
  "language_info": {
   "codemirror_mode": {
    "name": "ipython",
    "version": 3
   },
   "file_extension": ".py",
   "mimetype": "text/x-python",
   "name": "python",
   "nbconvert_exporter": "python",
   "pygments_lexer": "ipython3",
   "version": "3.12.3"
  }
 },
 "nbformat": 4,
 "nbformat_minor": 5
}

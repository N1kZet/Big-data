{
 "cells": [
  {
   "cell_type": "code",
   "execution_count": 4,
   "id": "a2e8fb19-a3ee-41bd-b6f9-e4d04996e803",
   "metadata": {},
   "outputs": [
    {
     "ename": "ValueError",
     "evalue": "'writing_score' is not in list",
     "output_type": "error",
     "traceback": [
      "\u001b[0;31m---------------------------------------------------------------------------\u001b[0m",
      "\u001b[0;31mValueError\u001b[0m                                Traceback (most recent call last)",
      "Cell \u001b[0;32mIn[4], line 7\u001b[0m\n\u001b[1;32m      4\u001b[0m header \u001b[38;5;241m=\u001b[39m file\u001b[38;5;241m.\u001b[39mreadline()\u001b[38;5;241m.\u001b[39mstrip()\u001b[38;5;241m.\u001b[39msplit(\u001b[38;5;124m'\u001b[39m\u001b[38;5;124m,\u001b[39m\u001b[38;5;124m'\u001b[39m)\n\u001b[1;32m      6\u001b[0m \u001b[38;5;66;03m# Находим индексы для нужных колонок\u001b[39;00m\n\u001b[0;32m----> 7\u001b[0m writing_score_idx \u001b[38;5;241m=\u001b[39m \u001b[43mheader\u001b[49m\u001b[38;5;241;43m.\u001b[39;49m\u001b[43mindex\u001b[49m\u001b[43m(\u001b[49m\u001b[38;5;124;43m'\u001b[39;49m\u001b[38;5;124;43mwriting_score\u001b[39;49m\u001b[38;5;124;43m'\u001b[39;49m\u001b[43m)\u001b[49m\n\u001b[1;32m      8\u001b[0m lunch_idx \u001b[38;5;241m=\u001b[39m header\u001b[38;5;241m.\u001b[39mindex(\u001b[38;5;124m'\u001b[39m\u001b[38;5;124mlunch\u001b[39m\u001b[38;5;124m'\u001b[39m)\n\u001b[1;32m     10\u001b[0m \u001b[38;5;66;03m# Счётчики\u001b[39;00m\n",
      "\u001b[0;31mValueError\u001b[0m: 'writing_score' is not in list"
     ]
    }
   ],
   "source": [
    "# Открываем CSV файл и читаем его\n",
    "with open('StudentsPerformance.csv', 'r') as file:\n",
    "    # Пропускаем первую строку (заголовки)\n",
    "    header = file.readline().strip().split(',')\n",
    "    \n",
    "    # Находим индексы для нужных колонок\n",
    "    writing_score_idx = header.index('writing score')\n",
    "    lunch_idx = header.index('lunch')\n",
    "    \n",
    "    # Счётчики\n",
    "    total_students = 0\n",
    "    standard_lunch_count = 0\n",
    "    \n",
    "    # Читаем каждую строку в файле\n",
    "    for line in file:\n",
    "        # Разделяем строку на значения\n",
    "        values = line.strip().split(',')\n",
    "        \n",
    "        # Получаем оценку по письму и lunch\n",
    "        writing_score = int(values[writing_score_idx])\n",
    "        lunch = values[lunch_idx]\n",
    "        \n",
    "        # Если оценка по письму больше 90, увеличиваем счётчики\n",
    "        if writing_score > 90:\n",
    "            total_students += 1\n",
    "            if lunch == 'standard':\n",
    "                standard_lunch_count += 1\n",
    "    \n",
    "    # Рассчитываем процент\n",
    "    if total_students > 0:\n",
    "        percentage = (standard_lunch_count / total_students) * 100\n",
    "        # Выводим результат, округленный до одного знака\n",
    "        print(f'Процент студентов с оценкой по письму > 90 и lunch = standard: {round(percentage, 1)}%')\n",
    "    else:\n",
    "        print('Нет студентов с оценкой по письму больше 90.')\n"
   ]
  },
  {
   "cell_type": "code",
   "execution_count": null,
   "id": "e5e81962-ff4b-4876-816f-4b5b297f85c0",
   "metadata": {},
   "outputs": [],
   "source": []
  }
 ],
 "metadata": {
  "kernelspec": {
   "display_name": "Python 3 (ipykernel)",
   "language": "python",
   "name": "python3"
  },
  "language_info": {
   "codemirror_mode": {
    "name": "ipython",
    "version": 3
   },
   "file_extension": ".py",
   "mimetype": "text/x-python",
   "name": "python",
   "nbconvert_exporter": "python",
   "pygments_lexer": "ipython3",
   "version": "3.12.3"
  }
 },
 "nbformat": 4,
 "nbformat_minor": 5
}

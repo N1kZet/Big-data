{
 "cells": [
  {
   "cell_type": "code",
   "execution_count": 3,
   "id": "e1248745-1db9-425e-b9ac-8d82474d0ae8",
   "metadata": {},
   "outputs": [
    {
     "name": "stdout",
     "output_type": "stream",
     "text": [
      "{'group B': 190, 'group C': 319, 'group A': 89, 'group D': 262, 'group E': 140}\n"
     ]
    }
   ],
   "source": [
    "students = {}\n",
    "f = open(\"StudentsPerformance.csv\")\n",
    "k = 0\n",
    "for line in f:\n",
    "    info = line.split(',')\n",
    "    if info[0] =='\"gender\"':\n",
    "        continue\n",
    "    else: \n",
    "        ethnicity = info[1][1:-1] \n",
    "        if ethnicity in students: \n",
    "            students[ethnicity] += 1 \n",
    "        else: \n",
    "            students[ethnicity] = 1 \n",
    "print(students)"
   ]
  }
 ],
 "metadata": {
  "kernelspec": {
   "display_name": "Python 3",
   "language": "python",
   "name": "python3"
  },
  "language_info": {
   "codemirror_mode": {
    "name": "ipython",
    "version": 3
   },
   "file_extension": ".py",
   "mimetype": "text/x-python",
   "name": "python",
   "nbconvert_exporter": "python",
   "pygments_lexer": "ipython3",
   "version": "3.11.0"
  }
 },
 "nbformat": 4,
 "nbformat_minor": 5
}

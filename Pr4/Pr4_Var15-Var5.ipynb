{
  "cells": [
    {
      "cell_type": "markdown",
      "source": [
        "15.Выполните задание на основе набора данных StudentsPerformance.csv: Сколько разных этнических групп встречается в файле?"
      ],
      "metadata": {
        "id": "6qMYTOFqIbas"
      }
    },
    {
      "cell_type": "code",
      "source": [
        "students = {}\n",
        "f = open(\"/home/StudentsPerformance.csv\")\n",
        "k = 0\n",
        "for line in f:\n",
        "    info = line.split(',')\n",
        "    if info[0] =='\"gender\"':\n",
        "        continue\n",
        "    else:\n",
        "        ethnicity = info[1][1:-1]\n",
        "        if ethnicity in students:\n",
        "            students[ethnicity] += 1\n",
        "        else:\n",
        "            students[ethnicity] = 1\n",
        "print(students)"
      ],
      "metadata": {
        "id": "U5ZbPkjRaqMA",
        "colab": {
          "base_uri": "https://localhost:8080/"
        },
        "outputId": "e55bb56a-accd-444d-981a-d6fa62bfbef3"
      },
      "execution_count": 3,
      "outputs": [
        {
          "output_type": "stream",
          "name": "stdout",
          "text": [
            "{'group B': 190, 'group C': 319, 'group A': 89, 'group D': 262, 'group E': 140}\n"
          ]
        }
      ]
    },
    {
      "cell_type": "markdown",
      "source": [
        "5.Выполните задание на основе набора данных StudentsPerformance.csv:  Сколько  абитуриентов  получили  на  экзамене  по  письму  (writing  score) оценку выше 90?"
      ],
      "metadata": {
        "id": "Vjmuoq9EI2s7"
      }
    },
    {
      "cell_type": "code",
      "source": [
        "import pandas as pd\n",
        "\n",
        "df = pd.read_csv('/home/StudentsPerformance.csv')\n",
        "\n",
        "high_scorers = df[df['writing score'] > 90]\n",
        "\n",
        "print(len(high_scorers))\n"
      ],
      "metadata": {
        "colab": {
          "base_uri": "https://localhost:8080/"
        },
        "id": "xofenjs8I6Rq",
        "outputId": "402bb52d-68d6-4d9a-eced-55eb14deea9d"
      },
      "execution_count": 4,
      "outputs": [
        {
          "output_type": "stream",
          "name": "stdout",
          "text": [
            "68\n"
          ]
        }
      ]
    }
  ],
  "metadata": {
    "colab": {
      "provenance": []
    },
    "kernelspec": {
      "display_name": "Python 3",
      "name": "python3"
    }
  },
  "nbformat": 4,
  "nbformat_minor": 0
}